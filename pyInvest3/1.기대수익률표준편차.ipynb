{
 "cells": [
  {
   "cell_type": "code",
   "execution_count": 153,
   "metadata": {},
   "outputs": [],
   "source": [
    "import FinanceDataReader as fdr\n",
    "import pandas as pd\n",
    "import numpy as np"
   ]
  },
  {
   "cell_type": "code",
   "execution_count": 134,
   "metadata": {},
   "outputs": [],
   "source": [
    "df=fdr.DataReader('005930','2019-01-01', '2019-12-31')\n",
    "df_close=df[['Close']]\n",
    "df_close = df_close.copy()"
   ]
  },
  {
   "cell_type": "markdown",
   "metadata": {},
   "source": [
    "## 복리 수익률 구하기"
   ]
  },
  {
   "cell_type": "code",
   "execution_count": 135,
   "metadata": {},
   "outputs": [
    {
     "data": {
      "text/plain": [
       "np.float64(0.44)"
      ]
     },
     "execution_count": 135,
     "metadata": {},
     "output_type": "execute_result"
    }
   ],
   "source": [
    "fisrt_date = df_close.index[0]\n",
    "last_date = df_close.index[-1] \n",
    "\n",
    "(df_close.loc[last_date,'Close'] - df_close.loc[fisrt_date,'Close']) / df_close.loc[fisrt_date,'Close']"
   ]
  },
  {
   "cell_type": "code",
   "execution_count": 136,
   "metadata": {},
   "outputs": [],
   "source": [
    "df_close.loc[:, 'change']= (df_close.loc[:,'Close'] - df_close.loc[:,'Close'].shift(1)) / df_close.loc[:,'Close'].shift(1)\n",
    "df_close.loc[:,'total change'] = (1+df_close.loc[:,'change']).cumprod()-1"
   ]
  },
  {
   "cell_type": "code",
   "execution_count": 137,
   "metadata": {},
   "outputs": [
    {
     "data": {
      "text/plain": [
       "np.float64(0.44000000000000017)"
      ]
     },
     "execution_count": 137,
     "metadata": {},
     "output_type": "execute_result"
    }
   ],
   "source": [
    "last_date = df_close.index[-1] \n",
    "last_total_change = df_close.loc[last_date, 'total change']\n",
    "last_total_change"
   ]
  },
  {
   "cell_type": "code",
   "execution_count": 138,
   "metadata": {},
   "outputs": [
    {
     "data": {
      "text/html": [
       "<div>\n",
       "<style scoped>\n",
       "    .dataframe tbody tr th:only-of-type {\n",
       "        vertical-align: middle;\n",
       "    }\n",
       "\n",
       "    .dataframe tbody tr th {\n",
       "        vertical-align: top;\n",
       "    }\n",
       "\n",
       "    .dataframe thead th {\n",
       "        text-align: right;\n",
       "    }\n",
       "</style>\n",
       "<table border=\"1\" class=\"dataframe\">\n",
       "  <thead>\n",
       "    <tr style=\"text-align: right;\">\n",
       "      <th></th>\n",
       "      <th>Close</th>\n",
       "      <th>change</th>\n",
       "      <th>total change</th>\n",
       "    </tr>\n",
       "    <tr>\n",
       "      <th>Date</th>\n",
       "      <th></th>\n",
       "      <th></th>\n",
       "      <th></th>\n",
       "    </tr>\n",
       "  </thead>\n",
       "  <tbody>\n",
       "    <tr>\n",
       "      <th>2019-01-02</th>\n",
       "      <td>38750</td>\n",
       "      <td>NaN</td>\n",
       "      <td>NaN</td>\n",
       "    </tr>\n",
       "    <tr>\n",
       "      <th>2019-01-03</th>\n",
       "      <td>37600</td>\n",
       "      <td>-0.029677</td>\n",
       "      <td>-0.029677</td>\n",
       "    </tr>\n",
       "    <tr>\n",
       "      <th>2019-01-04</th>\n",
       "      <td>37450</td>\n",
       "      <td>-0.003989</td>\n",
       "      <td>-0.033548</td>\n",
       "    </tr>\n",
       "    <tr>\n",
       "      <th>2019-01-07</th>\n",
       "      <td>38750</td>\n",
       "      <td>0.034713</td>\n",
       "      <td>0.000000</td>\n",
       "    </tr>\n",
       "    <tr>\n",
       "      <th>2019-01-08</th>\n",
       "      <td>38100</td>\n",
       "      <td>-0.016774</td>\n",
       "      <td>-0.016774</td>\n",
       "    </tr>\n",
       "    <tr>\n",
       "      <th>...</th>\n",
       "      <td>...</td>\n",
       "      <td>...</td>\n",
       "      <td>...</td>\n",
       "    </tr>\n",
       "    <tr>\n",
       "      <th>2019-12-23</th>\n",
       "      <td>55500</td>\n",
       "      <td>-0.008929</td>\n",
       "      <td>0.432258</td>\n",
       "    </tr>\n",
       "    <tr>\n",
       "      <th>2019-12-24</th>\n",
       "      <td>55000</td>\n",
       "      <td>-0.009009</td>\n",
       "      <td>0.419355</td>\n",
       "    </tr>\n",
       "    <tr>\n",
       "      <th>2019-12-26</th>\n",
       "      <td>55400</td>\n",
       "      <td>0.007273</td>\n",
       "      <td>0.429677</td>\n",
       "    </tr>\n",
       "    <tr>\n",
       "      <th>2019-12-27</th>\n",
       "      <td>56500</td>\n",
       "      <td>0.019856</td>\n",
       "      <td>0.458065</td>\n",
       "    </tr>\n",
       "    <tr>\n",
       "      <th>2019-12-30</th>\n",
       "      <td>55800</td>\n",
       "      <td>-0.012389</td>\n",
       "      <td>0.440000</td>\n",
       "    </tr>\n",
       "  </tbody>\n",
       "</table>\n",
       "<p>246 rows × 3 columns</p>\n",
       "</div>"
      ],
      "text/plain": [
       "            Close    change  total change\n",
       "Date                                     \n",
       "2019-01-02  38750       NaN           NaN\n",
       "2019-01-03  37600 -0.029677     -0.029677\n",
       "2019-01-04  37450 -0.003989     -0.033548\n",
       "2019-01-07  38750  0.034713      0.000000\n",
       "2019-01-08  38100 -0.016774     -0.016774\n",
       "...           ...       ...           ...\n",
       "2019-12-23  55500 -0.008929      0.432258\n",
       "2019-12-24  55000 -0.009009      0.419355\n",
       "2019-12-26  55400  0.007273      0.429677\n",
       "2019-12-27  56500  0.019856      0.458065\n",
       "2019-12-30  55800 -0.012389      0.440000\n",
       "\n",
       "[246 rows x 3 columns]"
      ]
     },
     "execution_count": 138,
     "metadata": {},
     "output_type": "execute_result"
    }
   ],
   "source": [
    "df_close"
   ]
  },
  {
   "cell_type": "markdown",
   "metadata": {},
   "source": [
    "#### 삼성전자의 가격이 2019-01-02 ~ 2013-01-31까지 주어졌다면, 기대수익률은? -> 0.85%\n",
    "- 동일 비중으로 가정"
   ]
  },
  {
   "cell_type": "code",
   "execution_count": 139,
   "metadata": {},
   "outputs": [
    {
     "data": {
      "text/plain": [
       "change    0.852033\n",
       "dtype: float64"
      ]
     },
     "execution_count": 139,
     "metadata": {},
     "output_type": "execute_result"
    }
   ],
   "source": [
    "start_date = '2019-01-02'\n",
    "end_date = '2019-01-31'\n",
    "p =1/21\n",
    "E_x= (df_close.loc[start_date:end_date,['change']] * p * 100).dropna().sum()\n",
    "E_x"
   ]
  },
  {
   "cell_type": "markdown",
   "metadata": {},
   "source": [
    "#### 삼성전자의 가격이 2019-01-02 ~ 2013-12-31까지 주어졌다면, 기대수익률은? -> 0.16%\n",
    "- 동일 비중으로 가정"
   ]
  },
  {
   "cell_type": "code",
   "execution_count": 140,
   "metadata": {},
   "outputs": [
    {
     "data": {
      "text/plain": [
       "change    0.158815\n",
       "dtype: float64"
      ]
     },
     "execution_count": 140,
     "metadata": {},
     "output_type": "execute_result"
    }
   ],
   "source": [
    "start_date = '2019-01-02'\n",
    "end_date = '2019-12-31'\n",
    "p = 1 / len(df_close)\n",
    "E_x=(df_close.loc[start_date:end_date,['change']] * p * 100).dropna().sum()\n",
    "E_x"
   ]
  },
  {
   "cell_type": "markdown",
   "metadata": {},
   "source": [
    "- 동일 비중이 과연 맞을까?\n",
    "- 동일 가중치를 준다는 것 -> 결국 평균을 구하는 것이랑 같다\n",
    "- 주관을 주지 않고 평균을 두는 경우가 많다,,,\n",
    "- 최근 데이터의 가중치(확률 비중)을 높게 주고 싶으면 가중 평균을 하면 된다 -> ewm()"
   ]
  },
  {
   "cell_type": "markdown",
   "metadata": {},
   "source": [
    "#### 삼성전자의 가격이 2019-01-02 ~ 2013-01-31까지 주어졌다면, 표준편차는? -> 1.81%\n",
    "- 동일 비중으로 가정"
   ]
  },
  {
   "cell_type": "code",
   "execution_count": 150,
   "metadata": {},
   "outputs": [
    {
     "data": {
      "text/plain": [
       "change    3.292382\n",
       "dtype: float64"
      ]
     },
     "execution_count": 150,
     "metadata": {},
     "output_type": "execute_result"
    }
   ],
   "source": [
    "start_date = '2019-01-02'\n",
    "end_date = '2019-01-31'\n",
    "p =1/21\n",
    "E_x= (df_close.loc[start_date:end_date,['change']] * p * 100).dropna().sum()\n",
    "v_x = (((df_close.loc[start_date:end_date,['change']]*100 - E_x)**2) * p).dropna().sum()\n",
    "v_x"
   ]
  },
  {
   "cell_type": "code",
   "execution_count": 152,
   "metadata": {},
   "outputs": [
    {
     "data": {
      "text/plain": [
       "change    1.814492\n",
       "dtype: float64"
      ]
     },
     "execution_count": 152,
     "metadata": {},
     "output_type": "execute_result"
    }
   ],
   "source": [
    "np.sqrt(v_x)"
   ]
  },
  {
   "cell_type": "markdown",
   "metadata": {},
   "source": [
    "#### 삼성전자의 가격이 2019-01-02 ~ 2013-01-31까지 주어졌다면, 표준편차는? -> 1.45%\n",
    "- 동일 비중으로 가정"
   ]
  },
  {
   "cell_type": "code",
   "execution_count": 155,
   "metadata": {},
   "outputs": [
    {
     "data": {
      "text/plain": [
       "change    1.448766\n",
       "dtype: float64"
      ]
     },
     "execution_count": 155,
     "metadata": {},
     "output_type": "execute_result"
    }
   ],
   "source": [
    "start_date = '2019-01-02'\n",
    "end_date = '2019-12-30'\n",
    "p = 1 / len(df_close)\n",
    "E_x=(df_close.loc[start_date:end_date,['change']] * p * 100).dropna().sum()\n",
    "v_x = (((df_close.loc[start_date:end_date,['change']]*100 - E_x)**2) * p).dropna().sum()\n",
    "np.sqrt(v_x)"
   ]
  },
  {
   "cell_type": "code",
   "execution_count": null,
   "metadata": {},
   "outputs": [],
   "source": []
  }
 ],
 "metadata": {
  "kernelspec": {
   "display_name": "pyInvestVenv",
   "language": "python",
   "name": "python3"
  },
  "language_info": {
   "codemirror_mode": {
    "name": "ipython",
    "version": 3
   },
   "file_extension": ".py",
   "mimetype": "text/x-python",
   "name": "python",
   "nbconvert_exporter": "python",
   "pygments_lexer": "ipython3",
   "version": "3.12.5"
  }
 },
 "nbformat": 4,
 "nbformat_minor": 2
}
