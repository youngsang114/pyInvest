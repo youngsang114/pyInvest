{
 "cells": [
  {
   "cell_type": "markdown",
   "metadata": {},
   "source": [
    "## 1.Basic"
   ]
  },
  {
   "cell_type": "code",
   "execution_count": 1,
   "metadata": {},
   "outputs": [
    {
     "data": {
      "text/plain": [
       "array([[23, 79, 15],\n",
       "       [75,  6,  1],\n",
       "       [80, 47, 32]], dtype=int32)"
      ]
     },
     "execution_count": 1,
     "metadata": {},
     "output_type": "execute_result"
    }
   ],
   "source": [
    "import numpy as np\n",
    "import plotly.graph_objs as go\n",
    "\n",
    "random_matrix = np.random.randint(0, 100, (3,3))\n",
    "random_matrix"
   ]
  },
  {
   "cell_type": "code",
   "execution_count": 2,
   "metadata": {},
   "outputs": [
    {
     "data": {
      "application/vnd.plotly.v1+json": {
       "config": {
        "plotlyServerURL": "https://plot.ly"
       },
       "data": [
        {
         "type": "heatmap",
         "x": [
          "A",
          "B",
          "C"
         ],
         "y": [
          "1",
          "2",
          "3"
         ],
         "z": [
          [
           23,
           79,
           15
          ],
          [
           75,
           6,
           1
          ],
          [
           80,
           47,
           32
          ]
         ]
        }
       ],
       "layout": {
        "template": {
         "data": {
          "bar": [
           {
            "error_x": {
             "color": "#2a3f5f"
            },
            "error_y": {
             "color": "#2a3f5f"
            },
            "marker": {
             "line": {
              "color": "#E5ECF6",
              "width": 0.5
             },
             "pattern": {
              "fillmode": "overlay",
              "size": 10,
              "solidity": 0.2
             }
            },
            "type": "bar"
           }
          ],
          "barpolar": [
           {
            "marker": {
             "line": {
              "color": "#E5ECF6",
              "width": 0.5
             },
             "pattern": {
              "fillmode": "overlay",
              "size": 10,
              "solidity": 0.2
             }
            },
            "type": "barpolar"
           }
          ],
          "carpet": [
           {
            "aaxis": {
             "endlinecolor": "#2a3f5f",
             "gridcolor": "white",
             "linecolor": "white",
             "minorgridcolor": "white",
             "startlinecolor": "#2a3f5f"
            },
            "baxis": {
             "endlinecolor": "#2a3f5f",
             "gridcolor": "white",
             "linecolor": "white",
             "minorgridcolor": "white",
             "startlinecolor": "#2a3f5f"
            },
            "type": "carpet"
           }
          ],
          "choropleth": [
           {
            "colorbar": {
             "outlinewidth": 0,
             "ticks": ""
            },
            "type": "choropleth"
           }
          ],
          "contour": [
           {
            "colorbar": {
             "outlinewidth": 0,
             "ticks": ""
            },
            "colorscale": [
             [
              0,
              "#0d0887"
             ],
             [
              0.1111111111111111,
              "#46039f"
             ],
             [
              0.2222222222222222,
              "#7201a8"
             ],
             [
              0.3333333333333333,
              "#9c179e"
             ],
             [
              0.4444444444444444,
              "#bd3786"
             ],
             [
              0.5555555555555556,
              "#d8576b"
             ],
             [
              0.6666666666666666,
              "#ed7953"
             ],
             [
              0.7777777777777778,
              "#fb9f3a"
             ],
             [
              0.8888888888888888,
              "#fdca26"
             ],
             [
              1,
              "#f0f921"
             ]
            ],
            "type": "contour"
           }
          ],
          "contourcarpet": [
           {
            "colorbar": {
             "outlinewidth": 0,
             "ticks": ""
            },
            "type": "contourcarpet"
           }
          ],
          "heatmap": [
           {
            "colorbar": {
             "outlinewidth": 0,
             "ticks": ""
            },
            "colorscale": [
             [
              0,
              "#0d0887"
             ],
             [
              0.1111111111111111,
              "#46039f"
             ],
             [
              0.2222222222222222,
              "#7201a8"
             ],
             [
              0.3333333333333333,
              "#9c179e"
             ],
             [
              0.4444444444444444,
              "#bd3786"
             ],
             [
              0.5555555555555556,
              "#d8576b"
             ],
             [
              0.6666666666666666,
              "#ed7953"
             ],
             [
              0.7777777777777778,
              "#fb9f3a"
             ],
             [
              0.8888888888888888,
              "#fdca26"
             ],
             [
              1,
              "#f0f921"
             ]
            ],
            "type": "heatmap"
           }
          ],
          "heatmapgl": [
           {
            "colorbar": {
             "outlinewidth": 0,
             "ticks": ""
            },
            "colorscale": [
             [
              0,
              "#0d0887"
             ],
             [
              0.1111111111111111,
              "#46039f"
             ],
             [
              0.2222222222222222,
              "#7201a8"
             ],
             [
              0.3333333333333333,
              "#9c179e"
             ],
             [
              0.4444444444444444,
              "#bd3786"
             ],
             [
              0.5555555555555556,
              "#d8576b"
             ],
             [
              0.6666666666666666,
              "#ed7953"
             ],
             [
              0.7777777777777778,
              "#fb9f3a"
             ],
             [
              0.8888888888888888,
              "#fdca26"
             ],
             [
              1,
              "#f0f921"
             ]
            ],
            "type": "heatmapgl"
           }
          ],
          "histogram": [
           {
            "marker": {
             "pattern": {
              "fillmode": "overlay",
              "size": 10,
              "solidity": 0.2
             }
            },
            "type": "histogram"
           }
          ],
          "histogram2d": [
           {
            "colorbar": {
             "outlinewidth": 0,
             "ticks": ""
            },
            "colorscale": [
             [
              0,
              "#0d0887"
             ],
             [
              0.1111111111111111,
              "#46039f"
             ],
             [
              0.2222222222222222,
              "#7201a8"
             ],
             [
              0.3333333333333333,
              "#9c179e"
             ],
             [
              0.4444444444444444,
              "#bd3786"
             ],
             [
              0.5555555555555556,
              "#d8576b"
             ],
             [
              0.6666666666666666,
              "#ed7953"
             ],
             [
              0.7777777777777778,
              "#fb9f3a"
             ],
             [
              0.8888888888888888,
              "#fdca26"
             ],
             [
              1,
              "#f0f921"
             ]
            ],
            "type": "histogram2d"
           }
          ],
          "histogram2dcontour": [
           {
            "colorbar": {
             "outlinewidth": 0,
             "ticks": ""
            },
            "colorscale": [
             [
              0,
              "#0d0887"
             ],
             [
              0.1111111111111111,
              "#46039f"
             ],
             [
              0.2222222222222222,
              "#7201a8"
             ],
             [
              0.3333333333333333,
              "#9c179e"
             ],
             [
              0.4444444444444444,
              "#bd3786"
             ],
             [
              0.5555555555555556,
              "#d8576b"
             ],
             [
              0.6666666666666666,
              "#ed7953"
             ],
             [
              0.7777777777777778,
              "#fb9f3a"
             ],
             [
              0.8888888888888888,
              "#fdca26"
             ],
             [
              1,
              "#f0f921"
             ]
            ],
            "type": "histogram2dcontour"
           }
          ],
          "mesh3d": [
           {
            "colorbar": {
             "outlinewidth": 0,
             "ticks": ""
            },
            "type": "mesh3d"
           }
          ],
          "parcoords": [
           {
            "line": {
             "colorbar": {
              "outlinewidth": 0,
              "ticks": ""
             }
            },
            "type": "parcoords"
           }
          ],
          "pie": [
           {
            "automargin": true,
            "type": "pie"
           }
          ],
          "scatter": [
           {
            "fillpattern": {
             "fillmode": "overlay",
             "size": 10,
             "solidity": 0.2
            },
            "type": "scatter"
           }
          ],
          "scatter3d": [
           {
            "line": {
             "colorbar": {
              "outlinewidth": 0,
              "ticks": ""
             }
            },
            "marker": {
             "colorbar": {
              "outlinewidth": 0,
              "ticks": ""
             }
            },
            "type": "scatter3d"
           }
          ],
          "scattercarpet": [
           {
            "marker": {
             "colorbar": {
              "outlinewidth": 0,
              "ticks": ""
             }
            },
            "type": "scattercarpet"
           }
          ],
          "scattergeo": [
           {
            "marker": {
             "colorbar": {
              "outlinewidth": 0,
              "ticks": ""
             }
            },
            "type": "scattergeo"
           }
          ],
          "scattergl": [
           {
            "marker": {
             "colorbar": {
              "outlinewidth": 0,
              "ticks": ""
             }
            },
            "type": "scattergl"
           }
          ],
          "scattermapbox": [
           {
            "marker": {
             "colorbar": {
              "outlinewidth": 0,
              "ticks": ""
             }
            },
            "type": "scattermapbox"
           }
          ],
          "scatterpolar": [
           {
            "marker": {
             "colorbar": {
              "outlinewidth": 0,
              "ticks": ""
             }
            },
            "type": "scatterpolar"
           }
          ],
          "scatterpolargl": [
           {
            "marker": {
             "colorbar": {
              "outlinewidth": 0,
              "ticks": ""
             }
            },
            "type": "scatterpolargl"
           }
          ],
          "scatterternary": [
           {
            "marker": {
             "colorbar": {
              "outlinewidth": 0,
              "ticks": ""
             }
            },
            "type": "scatterternary"
           }
          ],
          "surface": [
           {
            "colorbar": {
             "outlinewidth": 0,
             "ticks": ""
            },
            "colorscale": [
             [
              0,
              "#0d0887"
             ],
             [
              0.1111111111111111,
              "#46039f"
             ],
             [
              0.2222222222222222,
              "#7201a8"
             ],
             [
              0.3333333333333333,
              "#9c179e"
             ],
             [
              0.4444444444444444,
              "#bd3786"
             ],
             [
              0.5555555555555556,
              "#d8576b"
             ],
             [
              0.6666666666666666,
              "#ed7953"
             ],
             [
              0.7777777777777778,
              "#fb9f3a"
             ],
             [
              0.8888888888888888,
              "#fdca26"
             ],
             [
              1,
              "#f0f921"
             ]
            ],
            "type": "surface"
           }
          ],
          "table": [
           {
            "cells": {
             "fill": {
              "color": "#EBF0F8"
             },
             "line": {
              "color": "white"
             }
            },
            "header": {
             "fill": {
              "color": "#C8D4E3"
             },
             "line": {
              "color": "white"
             }
            },
            "type": "table"
           }
          ]
         },
         "layout": {
          "annotationdefaults": {
           "arrowcolor": "#2a3f5f",
           "arrowhead": 0,
           "arrowwidth": 1
          },
          "autotypenumbers": "strict",
          "coloraxis": {
           "colorbar": {
            "outlinewidth": 0,
            "ticks": ""
           }
          },
          "colorscale": {
           "diverging": [
            [
             0,
             "#8e0152"
            ],
            [
             0.1,
             "#c51b7d"
            ],
            [
             0.2,
             "#de77ae"
            ],
            [
             0.3,
             "#f1b6da"
            ],
            [
             0.4,
             "#fde0ef"
            ],
            [
             0.5,
             "#f7f7f7"
            ],
            [
             0.6,
             "#e6f5d0"
            ],
            [
             0.7,
             "#b8e186"
            ],
            [
             0.8,
             "#7fbc41"
            ],
            [
             0.9,
             "#4d9221"
            ],
            [
             1,
             "#276419"
            ]
           ],
           "sequential": [
            [
             0,
             "#0d0887"
            ],
            [
             0.1111111111111111,
             "#46039f"
            ],
            [
             0.2222222222222222,
             "#7201a8"
            ],
            [
             0.3333333333333333,
             "#9c179e"
            ],
            [
             0.4444444444444444,
             "#bd3786"
            ],
            [
             0.5555555555555556,
             "#d8576b"
            ],
            [
             0.6666666666666666,
             "#ed7953"
            ],
            [
             0.7777777777777778,
             "#fb9f3a"
            ],
            [
             0.8888888888888888,
             "#fdca26"
            ],
            [
             1,
             "#f0f921"
            ]
           ],
           "sequentialminus": [
            [
             0,
             "#0d0887"
            ],
            [
             0.1111111111111111,
             "#46039f"
            ],
            [
             0.2222222222222222,
             "#7201a8"
            ],
            [
             0.3333333333333333,
             "#9c179e"
            ],
            [
             0.4444444444444444,
             "#bd3786"
            ],
            [
             0.5555555555555556,
             "#d8576b"
            ],
            [
             0.6666666666666666,
             "#ed7953"
            ],
            [
             0.7777777777777778,
             "#fb9f3a"
            ],
            [
             0.8888888888888888,
             "#fdca26"
            ],
            [
             1,
             "#f0f921"
            ]
           ]
          },
          "colorway": [
           "#636efa",
           "#EF553B",
           "#00cc96",
           "#ab63fa",
           "#FFA15A",
           "#19d3f3",
           "#FF6692",
           "#B6E880",
           "#FF97FF",
           "#FECB52"
          ],
          "font": {
           "color": "#2a3f5f"
          },
          "geo": {
           "bgcolor": "white",
           "lakecolor": "white",
           "landcolor": "#E5ECF6",
           "showlakes": true,
           "showland": true,
           "subunitcolor": "white"
          },
          "hoverlabel": {
           "align": "left"
          },
          "hovermode": "closest",
          "mapbox": {
           "style": "light"
          },
          "paper_bgcolor": "white",
          "plot_bgcolor": "#E5ECF6",
          "polar": {
           "angularaxis": {
            "gridcolor": "white",
            "linecolor": "white",
            "ticks": ""
           },
           "bgcolor": "#E5ECF6",
           "radialaxis": {
            "gridcolor": "white",
            "linecolor": "white",
            "ticks": ""
           }
          },
          "scene": {
           "xaxis": {
            "backgroundcolor": "#E5ECF6",
            "gridcolor": "white",
            "gridwidth": 2,
            "linecolor": "white",
            "showbackground": true,
            "ticks": "",
            "zerolinecolor": "white"
           },
           "yaxis": {
            "backgroundcolor": "#E5ECF6",
            "gridcolor": "white",
            "gridwidth": 2,
            "linecolor": "white",
            "showbackground": true,
            "ticks": "",
            "zerolinecolor": "white"
           },
           "zaxis": {
            "backgroundcolor": "#E5ECF6",
            "gridcolor": "white",
            "gridwidth": 2,
            "linecolor": "white",
            "showbackground": true,
            "ticks": "",
            "zerolinecolor": "white"
           }
          },
          "shapedefaults": {
           "line": {
            "color": "#2a3f5f"
           }
          },
          "ternary": {
           "aaxis": {
            "gridcolor": "white",
            "linecolor": "white",
            "ticks": ""
           },
           "baxis": {
            "gridcolor": "white",
            "linecolor": "white",
            "ticks": ""
           },
           "bgcolor": "#E5ECF6",
           "caxis": {
            "gridcolor": "white",
            "linecolor": "white",
            "ticks": ""
           }
          },
          "title": {
           "x": 0.05
          },
          "xaxis": {
           "automargin": true,
           "gridcolor": "white",
           "linecolor": "white",
           "ticks": "",
           "title": {
            "standoff": 15
           },
           "zerolinecolor": "white",
           "zerolinewidth": 2
          },
          "yaxis": {
           "automargin": true,
           "gridcolor": "white",
           "linecolor": "white",
           "ticks": "",
           "title": {
            "standoff": 15
           },
           "zerolinecolor": "white",
           "zerolinewidth": 2
          }
         }
        }
       }
      }
     },
     "metadata": {},
     "output_type": "display_data"
    }
   ],
   "source": [
    "xaxis = ['A', 'B', 'C']\n",
    "yaxis = ['1', '2', '3']\n",
    "\n",
    "trace = go.Heatmap(z = random_matrix,\n",
    "                  x = xaxis,\n",
    "                  y = yaxis)\n",
    "\n",
    "fig = go.Figure(data = trace)\n",
    "\n",
    "fig.show()\n"
   ]
  },
  {
   "cell_type": "markdown",
   "metadata": {},
   "source": [
    "## 2.Practice"
   ]
  },
  {
   "cell_type": "code",
   "execution_count": 3,
   "metadata": {},
   "outputs": [],
   "source": [
    "import pandas as pd\n",
    "import plotly.graph_objs as go\n",
    "\n",
    "df = pd.read_excel('./Data/df_etf.xlsx', index_col = 0)\n",
    "df_copy = df.copy()"
   ]
  },
  {
   "cell_type": "code",
   "execution_count": 4,
   "metadata": {},
   "outputs": [
    {
     "name": "stderr",
     "output_type": "stream",
     "text": [
      "C:\\Users\\yys\\AppData\\Local\\Temp\\ipykernel_4196\\3211401502.py:12: SettingWithCopyWarning:\n",
      "\n",
      "\n",
      "A value is trying to be set on a copy of a slice from a DataFrame.\n",
      "Try using .loc[row_indexer,col_indexer] = value instead\n",
      "\n",
      "See the caveats in the documentation: https://pandas.pydata.org/pandas-docs/stable/user_guide/indexing.html#returning-a-view-versus-a-copy\n",
      "\n",
      "C:\\Users\\yys\\AppData\\Local\\Temp\\ipykernel_4196\\3211401502.py:14: FutureWarning:\n",
      "\n",
      "The default fill_method='pad' in DataFrame.pct_change is deprecated and will be removed in a future version. Either fill in any non-leading NA values prior to calling pct_change or specify 'fill_method=None' to not fill NA values.\n",
      "\n"
     ]
    },
    {
     "data": {
      "application/vnd.plotly.v1+json": {
       "config": {
        "plotlyServerURL": "https://plot.ly"
       },
       "data": [
        {
         "type": "heatmap",
         "x": [
          "KODEX 200",
          "KODEX 200 중소형",
          "KODEX 200ESG",
          "KODEX 200IT TR",
          "KODEX 200TR",
          "KODEX 200exTOP",
          "KODEX 200가치저변동",
          "KODEX 200동일가중",
          "KODEX 200롱코스닥150숏선물",
          "KODEX 200미국채혼합",
          "KODEX 200선물인버스2X",
          "KODEX 2차전지산업",
          "KODEX 3대농산물선물(H)",
          "KODEX Fn K-뉴딜디지털플러스",
          "KODEX Fn Top10동일가중",
          "KODEX Fn멀티팩터",
          "KODEX Fn성장",
          "KODEX Fn시스템반도체",
          "KODEX Fn웹툰&드라마",
          "KODEX IT",
          "KODEX K-메타버스액티브",
          "KODEX K-미래차액티브",
          "KODEX K-신재생에너지액티브",
          "KODEX K-이노베이션액티브",
          "KODEX KRX300",
          "KODEX KRX300레버리지",
          "KODEX KRX기후변화솔루션",
          "KODEX KTOP30",
          "KODEX MSCI EM선물(H)",
          "KODEX MSCI KOREA ESG유니버설",
          "KODEX MSCI Korea",
          "KODEX MSCI Korea TR",
          "KODEX MSCI모멘텀",
          "KODEX MSCI밸류",
          "KODEX MSCI퀄리티",
          "KODEX S&P글로벌인프라(합성)",
          "KODEX TRF3070",
          "KODEX TRF5050",
          "KODEX TRF7030",
          "KODEX TSE일본리츠(H)",
          "KODEX Top5PlusTR",
          "KODEX WTI원유선물(H)",
          "KODEX WTI원유선물인버스(H)",
          "KODEX 건설",
          "KODEX 게임산업",
          "KODEX 경기소비재",
          "KODEX 고배당",
          "KODEX 골드선물(H)",
          "KODEX 골드선물인버스(H)",
          "KODEX 구리선물(H)",
          "KODEX 국고채3년",
          "KODEX 국채선물10년",
          "KODEX 국채선물10년인버스",
          "KODEX 국채선물3년인버스",
          "KODEX 글로벌4차산업로보틱스(합성)",
          "KODEX 기계장비",
          "KODEX 다우존스미국리츠(H)",
          "KODEX 단기변동금리부채권액티브",
          "KODEX 단기채권",
          "KODEX 단기채권PLUS",
          "KODEX 레버리지",
          "KODEX 멀티에셋하이인컴(H)",
          "KODEX 모멘텀Plus",
          "KODEX 미국FANG플러스(H)",
          "KODEX 미국S&P500TR",
          "KODEX 미국S&P500선물(H)",
          "KODEX 미국S&P고배당커버드콜(합성 H)",
          "KODEX 미국S&P바이오(합성)",
          "KODEX 미국S&P산업재(합성)",
          "KODEX 미국S&P에너지(합성)",
          "KODEX 미국나스닥100TR",
          "KODEX 미국나스닥100레버리지(합성 H)",
          "KODEX 미국나스닥100선물(H)",
          "KODEX 미국나스닥100선물인버스(H)",
          "KODEX 미국달러선물",
          "KODEX 미국달러선물레버리지",
          "KODEX 미국달러선물인버스",
          "KODEX 미국달러선물인버스2X",
          "KODEX 미국러셀2000(H)",
          "KODEX 미국메타버스나스닥액티브",
          "KODEX 미국반도체MV",
          "KODEX 미국스마트모빌리티S&P",
          "KODEX 미국채10년선물",
          "KODEX 미국채울트라30년선물(H)",
          "KODEX 미국채울트라30년선물인버스(H)",
          "KODEX 미국클린에너지나스닥",
          "KODEX 미디어&엔터테인먼트",
          "KODEX 바이오",
          "KODEX 반도체",
          "KODEX 배당가치",
          "KODEX 배당성장",
          "KODEX 배당성장채권혼합",
          "KODEX 밸류Plus",
          "KODEX 보험",
          "KODEX 삼성그룹",
          "KODEX 삼성그룹밸류",
          "KODEX 선진국MSCI World",
          "KODEX 에너지화학",
          "KODEX 운송",
          "KODEX 유럽탄소배출권선물ICE(H)",
          "KODEX 은선물(H)",
          "KODEX 은행",
          "KODEX 인버스",
          "KODEX 일본TOPIX100",
          "KODEX 자동차",
          "KODEX 장기종합채권(AA-이상)액티브KAP",
          "KODEX 종합채권(AA-이상)액티브",
          "KODEX 증권",
          "KODEX 차이나2차전지MSCI(합성)",
          "KODEX 차이나A50",
          "KODEX 차이나CSI300",
          "KODEX 차이나H",
          "KODEX 차이나H레버리지(H)",
          "KODEX 차이나과창판STAR50(합성)",
          "KODEX 차이나심천ChiNext(합성)",
          "KODEX 차이나항셍테크",
          "KODEX 철강",
          "KODEX 최소변동성",
          "KODEX 코스닥150",
          "KODEX 코스닥150레버리지",
          "KODEX 코스닥150롱코스피200숏선물",
          "KODEX 코스닥150선물인버스",
          "KODEX 코스피",
          "KODEX 코스피100",
          "KODEX 코스피TR",
          "KODEX 코스피대형주",
          "KODEX 콩선물(H)",
          "KODEX 퀄리티Plus",
          "KODEX 탄소효율그린뉴딜",
          "KODEX 필수소비재",
          "KODEX 한국대만IT프리미어",
          "KODEX 헬스케어",
          "KODEX 혁신기술테마액티브"
         ],
         "y": [
          "2021-01-29T00:00:00",
          "2021-02-26T00:00:00",
          "2021-03-31T00:00:00",
          "2021-04-30T00:00:00",
          "2021-05-31T00:00:00",
          "2021-06-30T00:00:00",
          "2021-07-30T00:00:00",
          "2021-08-31T00:00:00",
          "2021-09-30T00:00:00",
          "2021-10-29T00:00:00",
          "2021-11-30T00:00:00",
          "2021-12-30T00:00:00"
         ],
         "z": [
          [
           null,
           null,
           null,
           null,
           null,
           null,
           null,
           null,
           null,
           null,
           null,
           null,
           null,
           null,
           null,
           null,
           null,
           null,
           null,
           null,
           null,
           null,
           null,
           null,
           null,
           null,
           null,
           null,
           null,
           null,
           null,
           null,
           null,
           null,
           null,
           null,
           null,
           null,
           null,
           null,
           null,
           null,
           null,
           null,
           null,
           null,
           null,
           null,
           null,
           null,
           null,
           null,
           null,
           null,
           null,
           null,
           null,
           null,
           null,
           null,
           null,
           null,
           null,
           null,
           null,
           null,
           null,
           null,
           null,
           null,
           null,
           null,
           null,
           null,
           null,
           null,
           null,
           null,
           null,
           null,
           null,
           null,
           null,
           null,
           null,
           null,
           null,
           null,
           null,
           null,
           null,
           null,
           null,
           null,
           null,
           null,
           null,
           null,
           null,
           null,
           null,
           null,
           null,
           null,
           null,
           null,
           null,
           null,
           null,
           null,
           null,
           null,
           null,
           null,
           null,
           null,
           null,
           null,
           null,
           null,
           null,
           null,
           null,
           null,
           null,
           null,
           null,
           null,
           null,
           null,
           null,
           null,
           null
          ],
          [
           1.41,
           3.62,
           2.33,
           -0.2,
           1.55,
           1.13,
           2.79,
           2.46,
           6.78,
           -1.41,
           -4.4,
           -1.81,
           1.7,
           -3.31,
           null,
           0.98,
           0.39,
           null,
           null,
           0.35,
           null,
           null,
           null,
           0.4,
           0.85,
           0.63,
           null,
           0.29,
           0.47,
           1.29,
           0.05,
           0.56,
           -2.13,
           1.92,
           -3.58,
           2.63,
           0.55,
           1.37,
           2.1,
           5.05,
           6.67,
           20.74,
           -16.56,
           4.7,
           -4.29,
           -0.43,
           2.92,
           -4.71,
           4.87,
           19.05,
           -0.05,
           -1.44,
           1.53,
           0.1,
           0.49,
           3.57,
           2.07,
           0.06,
           0.05,
           0.07,
           2.13,
           -0.86,
           -3,
           3.52,
           null,
           2.43,
           3.54,
           -3.02,
           5.54,
           23.73,
           null,
           null,
           -1.81,
           null,
           0.45,
           0.66,
           -0.39,
           -1.05,
           4.95,
           null,
           null,
           null,
           -2.11,
           -8.87,
           9.45,
           null,
           2.79,
           -7.38,
           3.57,
           2.79,
           2.3,
           0.51,
           5.36,
           7.69,
           -3.13,
           -0.86,
           3.93,
           -0.23,
           8.41,
           null,
           2.1,
           8.31,
           -1.84,
           2.89,
           -2.06,
           -1.3,
           -0.57,
           0.33,
           null,
           3.48,
           2.48,
           1.34,
           2.5,
           null,
           -5.16,
           -2.44,
           10.07,
           -0.5,
           -5.2,
           -10.73,
           -6.1,
           4.73,
           1.2,
           1.04,
           0.65,
           0.69,
           2.49,
           -0.29,
           null,
           3.09,
           4.22,
           -7.69,
           1.15
          ],
          [
           1.15,
           6.45,
           1.02,
           -2.46,
           1.12,
           2.89,
           5.29,
           4.86,
           -4.12,
           0.23,
           -3.22,
           -5.7,
           -4.28,
           -0.91,
           null,
           2.57,
           -0.43,
           null,
           null,
           -1.93,
           null,
           null,
           null,
           -1.43,
           1.76,
           3.2,
           null,
           0.55,
           -2.38,
           1.32,
           1.49,
           0.97,
           1.47,
           3.93,
           3.28,
           1.8,
           0.46,
           1.27,
           1.8,
           4.43,
           0.36,
           -3.08,
           0.59,
           8.98,
           6.75,
           4.36,
           9.27,
           -4.53,
           4.24,
           -5.89,
           -0.18,
           -0.59,
           0.54,
           0.12,
           -2.69,
           11.59,
           4.9,
           0.02,
           0.04,
           0.04,
           1.99,
           0.43,
           2.36,
           -6.07,
           null,
           3.38,
           6.56,
           -9.98,
           9.83,
           1.31,
           null,
           null,
           0.68,
           null,
           0.75,
           1.8,
           -0.93,
           -1.87,
           0.14,
           null,
           null,
           null,
           -0.88,
           -2.29,
           2.22,
           null,
           2.01,
           -1.54,
           1.41,
           6.26,
           3.44,
           0.51,
           7.61,
           8.8,
           0.6,
           2.84,
           3.14,
           -2.42,
           13.19,
           null,
           -10.83,
           14.32,
           -1.75,
           -0.19,
           0.24,
           -0.79,
           -0.5,
           6.36,
           null,
           -7.83,
           -6.83,
           -3.15,
           -7.56,
           null,
           -6.81,
           -8.86,
           14.16,
           2,
           4.65,
           9.83,
           3.12,
           -5.64,
           1.46,
           0.74,
           2.46,
           1.4,
           -2.12,
           3.78,
           1.38,
           3,
           -0.2,
           2.07,
           1.33
          ],
          [
           1.83,
           7.39,
           2.9,
           2.17,
           1.92,
           2.37,
           2.65,
           4.53,
           2.61,
           0.23,
           -3.8,
           10.33,
           18.23,
           0.8,
           null,
           3.27,
           0.34,
           null,
           null,
           -0.75,
           null,
           null,
           null,
           0.46,
           1.32,
           2.81,
           null,
           2.71,
           3.49,
           1.96,
           1,
           1.29,
           1.22,
           5.04,
           -2.73,
           1.94,
           0.91,
           1.68,
           2.63,
           2.44,
           -0.69,
           5.85,
           -5.99,
           7.17,
           -5.9,
           3.27,
           8.26,
           5.01,
           -4.45,
           12.24,
           0.09,
           -0.41,
           0.4,
           -0.07,
           1.5,
           7.3,
           6.56,
           0.04,
           0.05,
           0.07,
           3.13,
           2.4,
           6.36,
           7.6,
           null,
           6.23,
           0.25,
           4.26,
           0.81,
           0.38,
           null,
           null,
           7.92,
           null,
           -1.79,
           -3.81,
           1.73,
           3.44,
           4.5,
           null,
           null,
           null,
           -1.02,
           1.78,
           -1.86,
           null,
           1.12,
           2.02,
           3.93,
           4.44,
           5.79,
           2.29,
           6.58,
           3.65,
           1.55,
           2.58,
           4.29,
           9.49,
           8.15,
           null,
           7.93,
           4.5,
           -1.78,
           -2.37,
           -5.21,
           -1,
           -0.09,
           12.78,
           null,
           0.5,
           1.37,
           -3.03,
           -2.29,
           null,
           10.45,
           0.1,
           21.69,
           2.66,
           -1.07,
           -2.27,
           -2.35,
           0.76,
           3.06,
           1.6,
           2.93,
           2.1,
           10.23,
           3.59,
           1.86,
           -0.05,
           3.11,
           -3.27,
           2.89
          ],
          [
           1.1,
           6.92,
           1.13,
           -4.79,
           1.19,
           2.29,
           2.44,
           4.93,
           0.66,
           0.58,
           -2.96,
           -6.12,
           -0.43,
           0.28,
           null,
           0.73,
           -0.25,
           null,
           null,
           -2.87,
           null,
           null,
           null,
           -0.18,
           0.7,
           0.75,
           null,
           -0.63,
           0.97,
           0.35,
           0.25,
           0.15,
           -0.15,
           1.65,
           1.71,
           0.74,
           0.09,
           0.38,
           0.56,
           1.13,
           1.23,
           3.67,
           -4.41,
           4.15,
           2.8,
           7.24,
           2.01,
           7.67,
           -7.36,
           4.18,
           -0.16,
           -0.24,
           0.32,
           0.1,
           -2.06,
           2.37,
           1.78,
           0.04,
           0.03,
           0.05,
           2.28,
           0.61,
           -2.5,
           -3.82,
           0.29,
           0.32,
           2.65,
           -6.91,
           3.81,
           2.51,
           -1.52,
           null,
           -1.47,
           null,
           0,
           -0.06,
           0,
           0,
           -0.98,
           null,
           null,
           null,
           0.72,
           0.13,
           -0.13,
           null,
           6.1,
           -3.03,
           -2.37,
           2.36,
           0.19,
           -0.17,
           5.88,
           3.24,
           -0.55,
           0.26,
           1.16,
           -4.99,
           10.19,
           null,
           8,
           5.16,
           -1.69,
           2.07,
           8.79,
           0.25,
           -0.12,
           -1.77,
           null,
           6.26,
           5.52,
           0.52,
           -0.57,
           null,
           7.83,
           -3.56,
           -0.99,
           0.04,
           -0.07,
           -0.35,
           -1.08,
           -0.86,
           1.48,
           0.49,
           1.58,
           1.17,
           1.93,
           5.48,
           0.64,
           4.9,
           -3.33,
           0.03,
           1.4
          ],
          [
           2.66,
           3.35,
           3.42,
           5.25,
           2.75,
           3.97,
           1.25,
           2.01,
           -1.76,
           2.22,
           -5.85,
           5.77,
           -7.07,
           7.87,
           null,
           2.38,
           5.36,
           null,
           null,
           4.88,
           null,
           7.34,
           1.86,
           4.76,
           3.31,
           5.75,
           null,
           5.15,
           0.96,
           3.18,
           3.06,
           2.84,
           5.29,
           0.55,
           5.12,
           -0.22,
           1.04,
           1.57,
           2.15,
           3.67,
           2.63,
           9.97,
           -8.79,
           3.98,
           -0.52,
           1.41,
           0.2,
           -8.01,
           7.87,
           -9.13,
           -0.29,
           0.84,
           -0.94,
           0.29,
           4.08,
           5.62,
           3.49,
           -0.01,
           -0.08,
           -0.1,
           5.24,
           1.07,
           5.65,
           10.2,
           3.5,
           1.96,
           -1.75,
           7.53,
           -2.88,
           4.45,
           8.04,
           null,
           6.38,
           null,
           1.32,
           2.57,
           -1.41,
           -2.68,
           1.63,
           null,
           null,
           null,
           1.56,
           3.92,
           -4.18,
           null,
           11.74,
           6.15,
           4.86,
           0.5,
           1.69,
           0.21,
           1.34,
           1.91,
           3.67,
           3.57,
           2.19,
           4.56,
           0.34,
           null,
           -8.01,
           -1.03,
           -2.9,
           1.43,
           5.26,
           0.3,
           0.14,
           -0.29,
           null,
           -3.78,
           -1.55,
           0.89,
           -1.21,
           null,
           3.84,
           2.99,
           -2.1,
           3.03,
           4.11,
           8.23,
           1.09,
           -4.57,
           3.22,
           3.15,
           3.27,
           2.82,
           -8.2,
           1.18,
           3.19,
           0.05,
           2.11,
           2.52,
           3.41
          ],
          [
           -3.09,
           -1.4,
           -4.19,
           -2.19,
           -3.48,
           -3.52,
           -3.33,
           -2.49,
           -2.74,
           1.24,
           6.76,
           8.63,
           3.76,
           -0.96,
           null,
           -2.88,
           -2.33,
           null,
           null,
           -1.37,
           null,
           -2.79,
           3.5,
           -4.07,
           -3.08,
           -6.17,
           null,
           -2.57,
           -7.39,
           -3.61,
           -3.65,
           -3.62,
           -2.08,
           -2.94,
           -0.97,
           2.76,
           2.05,
           1.92,
           2.97,
           0.82,
           -4.39,
           0.27,
           -1.37,
           -1.4,
           5.21,
           -2.27,
           -2.4,
           3.89,
           -3.45,
           5.38,
           0.43,
           1.91,
           -1.87,
           -0.21,
           0.17,
           -0.24,
           2.98,
           0.07,
           0.07,
           0.08,
           -6.52,
           0.78,
           4.39,
           -3.09,
           4.23,
           2.18,
           -0.82,
           -6.29,
           4.13,
           -4.69,
           3.93,
           null,
           1.89,
           null,
           2.1,
           3.97,
           -2.02,
           -4.24,
           -3.44,
           null,
           0.4,
           -5.9,
           3.51,
           4.11,
           -4.56,
           null,
           -0.77,
           -3.31,
           -3.6,
           -2.86,
           0.56,
           0.83,
           -3.4,
           -0.75,
           1.7,
           -0.2,
           3.61,
           -2.04,
           -6.42,
           null,
           -1.4,
           -4.63,
           3.4,
           0.69,
           -7.74,
           2.17,
           1.04,
           -4.72,
           null,
           -11.61,
           -6.21,
           -12,
           -27.02,
           null,
           0.81,
           -16.51,
           3.41,
           -0.67,
           -0.86,
           -1.37,
           2.28,
           0.57,
           -3.08,
           -3.79,
           -3,
           -3.48,
           4.38,
           -4.89,
           -2.81,
           -7.24,
           -0.42,
           -4.52,
           -1.89
          ],
          [
           -1.18,
           -0.36,
           -1.13,
           -1.99,
           -1.08,
           -1.18,
           -2.03,
           -0.15,
           -5.64,
           -0.15,
           1.27,
           4.12,
           -1.9,
           1.67,
           1.78,
           -1.23,
           0.59,
           -2.41,
           -1.72,
           -1.1,
           null,
           -2.31,
           5.66,
           0.04,
           -0.87,
           -1.48,
           null,
           -1,
           1.61,
           -1.46,
           -1.31,
           -0.77,
           -2.16,
           -2.19,
           0.76,
           2.48,
           0.92,
           2.53,
           2.73,
           -0.37,
           -1.93,
           -4.93,
           3.32,
           -1.42,
           -4.28,
           -2.92,
           -0.25,
           -0.73,
           0.42,
           -2.43,
           0.19,
           -0.11,
           0.1,
           -0.24,
           4.91,
           -3.09,
           2.61,
           0.03,
           0.01,
           0.03,
           -2.3,
           0.96,
           -1.25,
           3.15,
           4.6,
           3.85,
           3.18,
           5.21,
           1.94,
           -0.82,
           6.41,
           null,
           5.57,
           null,
           0.64,
           1.52,
           -0.85,
           -1.55,
           2.49,
           null,
           7.2,
           -0.54,
           0.25,
           0.35,
           -0.28,
           null,
           -0.42,
           8.25,
           -2.8,
           -1.25,
           0.22,
           -0.29,
           -3.02,
           1.06,
           0.76,
           -1.27,
           4.24,
           -0.93,
           3.87,
           null,
           -5.41,
           1.78,
           0.79,
           3.01,
           -0.72,
           0.41,
           0.16,
           3.06,
           null,
           -0.58,
           1.54,
           -0.24,
           -2.38,
           null,
           -4.58,
           -2.03,
           -5.84,
           -1.82,
           4.08,
           7.91,
           5.63,
           -4.76,
           -0.06,
           -1.06,
           -0.47,
           -0.84,
           -4.65,
           -2.19,
           -0.54,
           -0.56,
           0.4,
           8.38,
           -0.72
          ],
          [
           -4.26,
           -0.26,
           -4.36,
           -5.49,
           -4.04,
           -4.34,
           -2.07,
           -2.18,
           -2.35,
           -1.26,
           8.75,
           9.47,
           -2.17,
           -8.31,
           -8.08,
           -3.03,
           -5.44,
           -2.05,
           -1.85,
           -4.22,
           null,
           0.62,
           10.1,
           -3.18,
           -3.8,
           -7.54,
           null,
           -6.08,
           -3.76,
           -4.24,
           -4.1,
           -4.56,
           -4.66,
           -1.16,
           -7.06,
           0.61,
           -1.52,
           -1.39,
           -1.37,
           -2.15,
           -3.73,
           8.56,
           -7.82,
           0.13,
           -3.91,
           -2.85,
           3.48,
           -4.99,
           4.88,
           -4.3,
           -0.65,
           -2.71,
           2.88,
           0.67,
           -1.38,
           0.17,
           -4.18,
           0.1,
           0.07,
           0.06,
           -8.22,
           -1.13,
           -2.54,
           -3.13,
           -1.25,
           -3.29,
           -1.89,
           -1.51,
           -2.13,
           11.19,
           -3.18,
           null,
           -5.2,
           null,
           2.14,
           4.18,
           -2.03,
           -4.17,
           -1.18,
           null,
           -3.94,
           -0.27,
           0.42,
           -3.46,
           3.54,
           null,
           -9.72,
           -9.61,
           -8.86,
           0.04,
           1.06,
           0.25,
           -3.96,
           4.42,
           -4.55,
           -2.01,
           -1.48,
           7.39,
           -6.6,
           null,
           -11.24,
           2.69,
           4.3,
           4.97,
           -6.49,
           -2.41,
           -1.36,
           -5.63,
           null,
           6.82,
           3.17,
           -1.61,
           -7.4,
           null,
           2.65,
           -3.96,
           -5.71,
           -1.41,
           -2.49,
           -4.66,
           2.58,
           1.9,
           -3.78,
           -4.34,
           -3.69,
           -4.51,
           -2.76,
           -4.13,
           -3.94,
           -7.28,
           -3.55,
           -9.58,
           -3.96
          ],
          [
           -3.2,
           -3.97,
           -2.28,
           -2.26,
           -3.07,
           -1.57,
           -3.41,
           -2.69,
           -1.85,
           -2.48,
           5.75,
           -5.27,
           3.72,
           -2.51,
           -1.14,
           -3.65,
           -2.6,
           -0.75,
           10.67,
           -1.52,
           null,
           0.85,
           -5.38,
           -1.01,
           -3.06,
           -6.91,
           null,
           -1.14,
           2.5,
           -2.67,
           -3.52,
           -3.65,
           -2.31,
           -3.48,
           -1.82,
           1.75,
           -0.53,
           0.2,
           1.16,
           -0.42,
           -1.47,
           10.95,
           -10.57,
           -7.09,
           21.58,
           -2.74,
           -0.58,
           3.8,
           -3.85,
           5.47,
           -1.21,
           0.95,
           2.91,
           1.24,
           2.14,
           -0.25,
           6.7,
           0.05,
           -0.01,
           -0.03,
           -6.62,
           0.96,
           -1.42,
           7.65,
           2.79,
           4.07,
           1.18,
           -0.4,
           1.58,
           7.36,
           3.89,
           null,
           5.14,
           null,
           -1.38,
           -2.72,
           1.19,
           2.54,
           1.84,
           null,
           3.33,
           3.3,
           -2.49,
           1.47,
           -1.48,
           null,
           7.49,
           -8.53,
           1.93,
           -3.28,
           -4.5,
           -1.69,
           -2.6,
           -3.51,
           -2.83,
           -3.41,
           2.21,
           -5.37,
           -11.13,
           -5.99,
           10.86,
           -0.2,
           3.12,
           -4.31,
           1.29,
           -2.83,
           -1.69,
           0.5,
           null,
           2.2,
           1.15,
           1.77,
           5.04,
           null,
           2.27,
           2.83,
           -5.04,
           -2.85,
           -2.18,
           -4.83,
           0.86,
           1.52,
           -3.35,
           -3.06,
           -3.2,
           -3.32,
           -2.8,
           0.33,
           -2.66,
           -3.06,
           -0.64,
           -12.3,
           -3.6
          ],
          [
           -3.59,
           -10.45,
           -4.45,
           1.54,
           -3.91,
           -5.99,
           -3.96,
           -9.58,
           -5.1,
           -0.46,
           7.17,
           2.46,
           1.36,
           -2.95,
           -2.47,
           -5.12,
           -2.09,
           -0.27,
           -6.09,
           3.8,
           7.44,
           -0.65,
           -1.26,
           1.52,
           -3.27,
           -6.92,
           -4.61,
           -5.95,
           -5.47,
           -3.48,
           -2.88,
           -3.02,
           -3.03,
           -6.28,
           -3.5,
           -3.12,
           1.81,
           1.29,
           0.85,
           -4,
           -1.88,
           -15.91,
           16.14,
           -9.04,
           13.19,
           -13.5,
           -5.63,
           -0.25,
           0.14,
           -2.41,
           1.03,
           -0.62,
           -3.45,
           -0.94,
           2.12,
           -10.33,
           -1.49,
           -0.02,
           0.07,
           0.08,
           -7.72,
           -1.27,
           -5.4,
           1.26,
           2.51,
           1.09,
           -1.51,
           -7.14,
           0.99,
           -4.91,
           5.94,
           null,
           4.49,
           null,
           1.55,
           3.05,
           -1.53,
           -3.2,
           -3.39,
           null,
           15.35,
           4.08,
           2.81,
           2.57,
           -3,
           null,
           1.46,
           -9.06,
           2.82,
           -5.05,
           -7.35,
           -2.01,
           -13.16,
           -9.29,
           -4.65,
           -7.01,
           0.38,
           -12.29,
           -12.69,
           25.01,
           -4.59,
           -6.95,
           3.64,
           0.3,
           -9.92,
           2.39,
           1.57,
           -7.32,
           null,
           -1.75,
           0.1,
           -6.09,
           -13.87,
           null,
           5.68,
           -5.39,
           -13.53,
           -3.19,
           0.66,
           1.62,
           4.98,
           -1.5,
           -4.12,
           -3.56,
           -4.24,
           -3.32,
           -1.32,
           -10.55,
           -3.89,
           -8.97,
           3.01,
           -2.65,
           -4.59
          ],
          [
           6.52,
           7.2,
           8.18,
           8.55,
           6.56,
           4.44,
           8.24,
           7.85,
           -0.1,
           2.94,
           -12.37,
           -3.57,
           2.87,
           -1.9,
           0.51,
           7.15,
           4.35,
           14.79,
           -0.88,
           8.14,
           0.49,
           9.07,
           2.05,
           4.59,
           6.64,
           13.11,
           6.85,
           4.75,
           1.14,
           6.45,
           6.64,
           6.9,
           2.12,
           10.59,
           4.69,
           5.62,
           1,
           1.95,
           2.49,
           3.96,
           9.51,
           12.21,
           -11.82,
           5.59,
           -1.91,
           10.42,
           6.18,
           0.17,
           -0.69,
           2.02,
           0.29,
           -0.19,
           0.5,
           -0.23,
           4.52,
           5.06,
           6.81,
           0.11,
           0.11,
           0.14,
           12.78,
           0.97,
           9.7,
           -3.96,
           4.1,
           3.87,
           4.17,
           -1.98,
           2.71,
           2.98,
           1.29,
           null,
           0.92,
           null,
           0.19,
           0.2,
           -0.26,
           -0.34,
           0.87,
           null,
           2.14,
           -6.18,
           -0.38,
           -2.46,
           2.11,
           null,
           -2.24,
           4.63,
           15.15,
           8.41,
           8.28,
           2.9,
           10.74,
           7.94,
           6.59,
           9.53,
           4,
           5.7,
           11.82,
           7.12,
           -0.86,
           6.48,
           -6.32,
           1.85,
           9.52,
           0.13,
           0.01,
           10.39,
           null,
           2.62,
           2.34,
           -2.66,
           -6.54,
           null,
           -4.33,
           -8.49,
           9.5,
           7.07,
           4.36,
           9.95,
           -0.16,
           -6.19,
           5.9,
           6.98,
           6.1,
           6.72,
           8.56,
           10.12,
           7.39,
           5.18,
           5.51,
           2.72,
           7.91
          ]
         ]
        }
       ],
       "layout": {
        "template": {
         "data": {
          "bar": [
           {
            "error_x": {
             "color": "#2a3f5f"
            },
            "error_y": {
             "color": "#2a3f5f"
            },
            "marker": {
             "line": {
              "color": "#E5ECF6",
              "width": 0.5
             },
             "pattern": {
              "fillmode": "overlay",
              "size": 10,
              "solidity": 0.2
             }
            },
            "type": "bar"
           }
          ],
          "barpolar": [
           {
            "marker": {
             "line": {
              "color": "#E5ECF6",
              "width": 0.5
             },
             "pattern": {
              "fillmode": "overlay",
              "size": 10,
              "solidity": 0.2
             }
            },
            "type": "barpolar"
           }
          ],
          "carpet": [
           {
            "aaxis": {
             "endlinecolor": "#2a3f5f",
             "gridcolor": "white",
             "linecolor": "white",
             "minorgridcolor": "white",
             "startlinecolor": "#2a3f5f"
            },
            "baxis": {
             "endlinecolor": "#2a3f5f",
             "gridcolor": "white",
             "linecolor": "white",
             "minorgridcolor": "white",
             "startlinecolor": "#2a3f5f"
            },
            "type": "carpet"
           }
          ],
          "choropleth": [
           {
            "colorbar": {
             "outlinewidth": 0,
             "ticks": ""
            },
            "type": "choropleth"
           }
          ],
          "contour": [
           {
            "colorbar": {
             "outlinewidth": 0,
             "ticks": ""
            },
            "colorscale": [
             [
              0,
              "#0d0887"
             ],
             [
              0.1111111111111111,
              "#46039f"
             ],
             [
              0.2222222222222222,
              "#7201a8"
             ],
             [
              0.3333333333333333,
              "#9c179e"
             ],
             [
              0.4444444444444444,
              "#bd3786"
             ],
             [
              0.5555555555555556,
              "#d8576b"
             ],
             [
              0.6666666666666666,
              "#ed7953"
             ],
             [
              0.7777777777777778,
              "#fb9f3a"
             ],
             [
              0.8888888888888888,
              "#fdca26"
             ],
             [
              1,
              "#f0f921"
             ]
            ],
            "type": "contour"
           }
          ],
          "contourcarpet": [
           {
            "colorbar": {
             "outlinewidth": 0,
             "ticks": ""
            },
            "type": "contourcarpet"
           }
          ],
          "heatmap": [
           {
            "colorbar": {
             "outlinewidth": 0,
             "ticks": ""
            },
            "colorscale": [
             [
              0,
              "#0d0887"
             ],
             [
              0.1111111111111111,
              "#46039f"
             ],
             [
              0.2222222222222222,
              "#7201a8"
             ],
             [
              0.3333333333333333,
              "#9c179e"
             ],
             [
              0.4444444444444444,
              "#bd3786"
             ],
             [
              0.5555555555555556,
              "#d8576b"
             ],
             [
              0.6666666666666666,
              "#ed7953"
             ],
             [
              0.7777777777777778,
              "#fb9f3a"
             ],
             [
              0.8888888888888888,
              "#fdca26"
             ],
             [
              1,
              "#f0f921"
             ]
            ],
            "type": "heatmap"
           }
          ],
          "heatmapgl": [
           {
            "colorbar": {
             "outlinewidth": 0,
             "ticks": ""
            },
            "colorscale": [
             [
              0,
              "#0d0887"
             ],
             [
              0.1111111111111111,
              "#46039f"
             ],
             [
              0.2222222222222222,
              "#7201a8"
             ],
             [
              0.3333333333333333,
              "#9c179e"
             ],
             [
              0.4444444444444444,
              "#bd3786"
             ],
             [
              0.5555555555555556,
              "#d8576b"
             ],
             [
              0.6666666666666666,
              "#ed7953"
             ],
             [
              0.7777777777777778,
              "#fb9f3a"
             ],
             [
              0.8888888888888888,
              "#fdca26"
             ],
             [
              1,
              "#f0f921"
             ]
            ],
            "type": "heatmapgl"
           }
          ],
          "histogram": [
           {
            "marker": {
             "pattern": {
              "fillmode": "overlay",
              "size": 10,
              "solidity": 0.2
             }
            },
            "type": "histogram"
           }
          ],
          "histogram2d": [
           {
            "colorbar": {
             "outlinewidth": 0,
             "ticks": ""
            },
            "colorscale": [
             [
              0,
              "#0d0887"
             ],
             [
              0.1111111111111111,
              "#46039f"
             ],
             [
              0.2222222222222222,
              "#7201a8"
             ],
             [
              0.3333333333333333,
              "#9c179e"
             ],
             [
              0.4444444444444444,
              "#bd3786"
             ],
             [
              0.5555555555555556,
              "#d8576b"
             ],
             [
              0.6666666666666666,
              "#ed7953"
             ],
             [
              0.7777777777777778,
              "#fb9f3a"
             ],
             [
              0.8888888888888888,
              "#fdca26"
             ],
             [
              1,
              "#f0f921"
             ]
            ],
            "type": "histogram2d"
           }
          ],
          "histogram2dcontour": [
           {
            "colorbar": {
             "outlinewidth": 0,
             "ticks": ""
            },
            "colorscale": [
             [
              0,
              "#0d0887"
             ],
             [
              0.1111111111111111,
              "#46039f"
             ],
             [
              0.2222222222222222,
              "#7201a8"
             ],
             [
              0.3333333333333333,
              "#9c179e"
             ],
             [
              0.4444444444444444,
              "#bd3786"
             ],
             [
              0.5555555555555556,
              "#d8576b"
             ],
             [
              0.6666666666666666,
              "#ed7953"
             ],
             [
              0.7777777777777778,
              "#fb9f3a"
             ],
             [
              0.8888888888888888,
              "#fdca26"
             ],
             [
              1,
              "#f0f921"
             ]
            ],
            "type": "histogram2dcontour"
           }
          ],
          "mesh3d": [
           {
            "colorbar": {
             "outlinewidth": 0,
             "ticks": ""
            },
            "type": "mesh3d"
           }
          ],
          "parcoords": [
           {
            "line": {
             "colorbar": {
              "outlinewidth": 0,
              "ticks": ""
             }
            },
            "type": "parcoords"
           }
          ],
          "pie": [
           {
            "automargin": true,
            "type": "pie"
           }
          ],
          "scatter": [
           {
            "fillpattern": {
             "fillmode": "overlay",
             "size": 10,
             "solidity": 0.2
            },
            "type": "scatter"
           }
          ],
          "scatter3d": [
           {
            "line": {
             "colorbar": {
              "outlinewidth": 0,
              "ticks": ""
             }
            },
            "marker": {
             "colorbar": {
              "outlinewidth": 0,
              "ticks": ""
             }
            },
            "type": "scatter3d"
           }
          ],
          "scattercarpet": [
           {
            "marker": {
             "colorbar": {
              "outlinewidth": 0,
              "ticks": ""
             }
            },
            "type": "scattercarpet"
           }
          ],
          "scattergeo": [
           {
            "marker": {
             "colorbar": {
              "outlinewidth": 0,
              "ticks": ""
             }
            },
            "type": "scattergeo"
           }
          ],
          "scattergl": [
           {
            "marker": {
             "colorbar": {
              "outlinewidth": 0,
              "ticks": ""
             }
            },
            "type": "scattergl"
           }
          ],
          "scattermapbox": [
           {
            "marker": {
             "colorbar": {
              "outlinewidth": 0,
              "ticks": ""
             }
            },
            "type": "scattermapbox"
           }
          ],
          "scatterpolar": [
           {
            "marker": {
             "colorbar": {
              "outlinewidth": 0,
              "ticks": ""
             }
            },
            "type": "scatterpolar"
           }
          ],
          "scatterpolargl": [
           {
            "marker": {
             "colorbar": {
              "outlinewidth": 0,
              "ticks": ""
             }
            },
            "type": "scatterpolargl"
           }
          ],
          "scatterternary": [
           {
            "marker": {
             "colorbar": {
              "outlinewidth": 0,
              "ticks": ""
             }
            },
            "type": "scatterternary"
           }
          ],
          "surface": [
           {
            "colorbar": {
             "outlinewidth": 0,
             "ticks": ""
            },
            "colorscale": [
             [
              0,
              "#0d0887"
             ],
             [
              0.1111111111111111,
              "#46039f"
             ],
             [
              0.2222222222222222,
              "#7201a8"
             ],
             [
              0.3333333333333333,
              "#9c179e"
             ],
             [
              0.4444444444444444,
              "#bd3786"
             ],
             [
              0.5555555555555556,
              "#d8576b"
             ],
             [
              0.6666666666666666,
              "#ed7953"
             ],
             [
              0.7777777777777778,
              "#fb9f3a"
             ],
             [
              0.8888888888888888,
              "#fdca26"
             ],
             [
              1,
              "#f0f921"
             ]
            ],
            "type": "surface"
           }
          ],
          "table": [
           {
            "cells": {
             "fill": {
              "color": "#EBF0F8"
             },
             "line": {
              "color": "white"
             }
            },
            "header": {
             "fill": {
              "color": "#C8D4E3"
             },
             "line": {
              "color": "white"
             }
            },
            "type": "table"
           }
          ]
         },
         "layout": {
          "annotationdefaults": {
           "arrowcolor": "#2a3f5f",
           "arrowhead": 0,
           "arrowwidth": 1
          },
          "autotypenumbers": "strict",
          "coloraxis": {
           "colorbar": {
            "outlinewidth": 0,
            "ticks": ""
           }
          },
          "colorscale": {
           "diverging": [
            [
             0,
             "#8e0152"
            ],
            [
             0.1,
             "#c51b7d"
            ],
            [
             0.2,
             "#de77ae"
            ],
            [
             0.3,
             "#f1b6da"
            ],
            [
             0.4,
             "#fde0ef"
            ],
            [
             0.5,
             "#f7f7f7"
            ],
            [
             0.6,
             "#e6f5d0"
            ],
            [
             0.7,
             "#b8e186"
            ],
            [
             0.8,
             "#7fbc41"
            ],
            [
             0.9,
             "#4d9221"
            ],
            [
             1,
             "#276419"
            ]
           ],
           "sequential": [
            [
             0,
             "#0d0887"
            ],
            [
             0.1111111111111111,
             "#46039f"
            ],
            [
             0.2222222222222222,
             "#7201a8"
            ],
            [
             0.3333333333333333,
             "#9c179e"
            ],
            [
             0.4444444444444444,
             "#bd3786"
            ],
            [
             0.5555555555555556,
             "#d8576b"
            ],
            [
             0.6666666666666666,
             "#ed7953"
            ],
            [
             0.7777777777777778,
             "#fb9f3a"
            ],
            [
             0.8888888888888888,
             "#fdca26"
            ],
            [
             1,
             "#f0f921"
            ]
           ],
           "sequentialminus": [
            [
             0,
             "#0d0887"
            ],
            [
             0.1111111111111111,
             "#46039f"
            ],
            [
             0.2222222222222222,
             "#7201a8"
            ],
            [
             0.3333333333333333,
             "#9c179e"
            ],
            [
             0.4444444444444444,
             "#bd3786"
            ],
            [
             0.5555555555555556,
             "#d8576b"
            ],
            [
             0.6666666666666666,
             "#ed7953"
            ],
            [
             0.7777777777777778,
             "#fb9f3a"
            ],
            [
             0.8888888888888888,
             "#fdca26"
            ],
            [
             1,
             "#f0f921"
            ]
           ]
          },
          "colorway": [
           "#636efa",
           "#EF553B",
           "#00cc96",
           "#ab63fa",
           "#FFA15A",
           "#19d3f3",
           "#FF6692",
           "#B6E880",
           "#FF97FF",
           "#FECB52"
          ],
          "font": {
           "color": "#2a3f5f"
          },
          "geo": {
           "bgcolor": "white",
           "lakecolor": "white",
           "landcolor": "#E5ECF6",
           "showlakes": true,
           "showland": true,
           "subunitcolor": "white"
          },
          "hoverlabel": {
           "align": "left"
          },
          "hovermode": "closest",
          "mapbox": {
           "style": "light"
          },
          "paper_bgcolor": "white",
          "plot_bgcolor": "#E5ECF6",
          "polar": {
           "angularaxis": {
            "gridcolor": "white",
            "linecolor": "white",
            "ticks": ""
           },
           "bgcolor": "#E5ECF6",
           "radialaxis": {
            "gridcolor": "white",
            "linecolor": "white",
            "ticks": ""
           }
          },
          "scene": {
           "xaxis": {
            "backgroundcolor": "#E5ECF6",
            "gridcolor": "white",
            "gridwidth": 2,
            "linecolor": "white",
            "showbackground": true,
            "ticks": "",
            "zerolinecolor": "white"
           },
           "yaxis": {
            "backgroundcolor": "#E5ECF6",
            "gridcolor": "white",
            "gridwidth": 2,
            "linecolor": "white",
            "showbackground": true,
            "ticks": "",
            "zerolinecolor": "white"
           },
           "zaxis": {
            "backgroundcolor": "#E5ECF6",
            "gridcolor": "white",
            "gridwidth": 2,
            "linecolor": "white",
            "showbackground": true,
            "ticks": "",
            "zerolinecolor": "white"
           }
          },
          "shapedefaults": {
           "line": {
            "color": "#2a3f5f"
           }
          },
          "ternary": {
           "aaxis": {
            "gridcolor": "white",
            "linecolor": "white",
            "ticks": ""
           },
           "baxis": {
            "gridcolor": "white",
            "linecolor": "white",
            "ticks": ""
           },
           "bgcolor": "#E5ECF6",
           "caxis": {
            "gridcolor": "white",
            "linecolor": "white",
            "ticks": ""
           }
          },
          "title": {
           "x": 0.05
          },
          "xaxis": {
           "automargin": true,
           "gridcolor": "white",
           "linecolor": "white",
           "ticks": "",
           "title": {
            "standoff": 15
           },
           "zerolinecolor": "white",
           "zerolinewidth": 2
          },
          "yaxis": {
           "automargin": true,
           "gridcolor": "white",
           "linecolor": "white",
           "ticks": "",
           "title": {
            "standoff": 15
           },
           "zerolinecolor": "white",
           "zerolinewidth": 2
          }
         }
        }
       }
      }
     },
     "metadata": {},
     "output_type": "display_data"
    }
   ],
   "source": [
    "# KODEX Data\n",
    "import numpy as np\n",
    "\n",
    "condition_kodex = [df_copy.columns[i] for i in range(df_copy.shape[1]) if 'KODEX' in df_copy.columns[i]]\n",
    "df_copy_kodex = df_copy.loc[:, condition_kodex]\n",
    "\n",
    "df_copy_kodex['YEAR'] = df_copy_kodex.index.year\n",
    "df_copy_kodex['MONTH'] = df_copy_kodex.index.month\n",
    "YEAR = 2021\n",
    "df_copy_kodex_2021 = df_copy_kodex[df_copy_kodex['YEAR'] == YEAR]\n",
    "\n",
    "df_copy_kodex_2021['MONTH Shift(-1)'] = df_copy_kodex['MONTH'].shift(-1)\n",
    "df_copy_kodex_2021_cond = df_copy_kodex_2021[df_copy_kodex_2021['MONTH'] - df_copy_kodex_2021['MONTH Shift(-1)'] !=0]\n",
    "df_copy_kodex_2021_cond_return = df_copy_kodex_2021_cond.pct_change(periods = 1)\n",
    "df_copy_kodex_2021_cond_return = np.round(df_copy_kodex_2021_cond_return * 100,2)\n",
    "\n",
    "df_copy_kodex_2021_cond_return = df_copy_kodex_2021_cond_return.drop(['YEAR', 'MONTH', 'MONTH Shift(-1)'], axis = 1)\n",
    "\n",
    "data = go.Heatmap(x = df_copy_kodex_2021_cond_return.columns,\n",
    "                  y = df_copy_kodex_2021_cond_return.index,\n",
    "                  z = df_copy_kodex_2021_cond_return)\n",
    "\n",
    "fig = go.Figure(data = data)\n",
    "fig.show()"
   ]
  },
  {
   "cell_type": "code",
   "execution_count": 5,
   "metadata": {},
   "outputs": [
    {
     "data": {
      "text/html": [
       "<div>\n",
       "<style scoped>\n",
       "    .dataframe tbody tr th:only-of-type {\n",
       "        vertical-align: middle;\n",
       "    }\n",
       "\n",
       "    .dataframe tbody tr th {\n",
       "        vertical-align: top;\n",
       "    }\n",
       "\n",
       "    .dataframe thead th {\n",
       "        text-align: right;\n",
       "    }\n",
       "</style>\n",
       "<table border=\"1\" class=\"dataframe\">\n",
       "  <thead>\n",
       "    <tr style=\"text-align: right;\">\n",
       "      <th></th>\n",
       "      <th>KODEX 200</th>\n",
       "      <th>KODEX 200 중소형</th>\n",
       "      <th>KODEX 200ESG</th>\n",
       "      <th>KODEX 200IT TR</th>\n",
       "      <th>KODEX 200TR</th>\n",
       "      <th>KODEX 200exTOP</th>\n",
       "      <th>KODEX 200가치저변동</th>\n",
       "      <th>KODEX 200동일가중</th>\n",
       "      <th>KODEX 200롱코스닥150숏선물</th>\n",
       "      <th>KODEX 200미국채혼합</th>\n",
       "      <th>...</th>\n",
       "      <th>KODEX 코스피100</th>\n",
       "      <th>KODEX 코스피TR</th>\n",
       "      <th>KODEX 코스피대형주</th>\n",
       "      <th>KODEX 콩선물(H)</th>\n",
       "      <th>KODEX 퀄리티Plus</th>\n",
       "      <th>KODEX 탄소효율그린뉴딜</th>\n",
       "      <th>KODEX 필수소비재</th>\n",
       "      <th>KODEX 한국대만IT프리미어</th>\n",
       "      <th>KODEX 헬스케어</th>\n",
       "      <th>KODEX 혁신기술테마액티브</th>\n",
       "    </tr>\n",
       "    <tr>\n",
       "      <th>Date</th>\n",
       "      <th></th>\n",
       "      <th></th>\n",
       "      <th></th>\n",
       "      <th></th>\n",
       "      <th></th>\n",
       "      <th></th>\n",
       "      <th></th>\n",
       "      <th></th>\n",
       "      <th></th>\n",
       "      <th></th>\n",
       "      <th></th>\n",
       "      <th></th>\n",
       "      <th></th>\n",
       "      <th></th>\n",
       "      <th></th>\n",
       "      <th></th>\n",
       "      <th></th>\n",
       "      <th></th>\n",
       "      <th></th>\n",
       "      <th></th>\n",
       "      <th></th>\n",
       "    </tr>\n",
       "  </thead>\n",
       "  <tbody>\n",
       "    <tr>\n",
       "      <th>2021-01-29</th>\n",
       "      <td>NaN</td>\n",
       "      <td>NaN</td>\n",
       "      <td>NaN</td>\n",
       "      <td>NaN</td>\n",
       "      <td>NaN</td>\n",
       "      <td>NaN</td>\n",
       "      <td>NaN</td>\n",
       "      <td>NaN</td>\n",
       "      <td>NaN</td>\n",
       "      <td>NaN</td>\n",
       "      <td>...</td>\n",
       "      <td>NaN</td>\n",
       "      <td>NaN</td>\n",
       "      <td>NaN</td>\n",
       "      <td>NaN</td>\n",
       "      <td>NaN</td>\n",
       "      <td>NaN</td>\n",
       "      <td>NaN</td>\n",
       "      <td>NaN</td>\n",
       "      <td>NaN</td>\n",
       "      <td>NaN</td>\n",
       "    </tr>\n",
       "    <tr>\n",
       "      <th>2021-02-26</th>\n",
       "      <td>1.41</td>\n",
       "      <td>3.62</td>\n",
       "      <td>2.33</td>\n",
       "      <td>-0.20</td>\n",
       "      <td>1.55</td>\n",
       "      <td>1.13</td>\n",
       "      <td>2.79</td>\n",
       "      <td>2.46</td>\n",
       "      <td>6.78</td>\n",
       "      <td>-1.41</td>\n",
       "      <td>...</td>\n",
       "      <td>1.04</td>\n",
       "      <td>0.65</td>\n",
       "      <td>0.69</td>\n",
       "      <td>2.49</td>\n",
       "      <td>-0.29</td>\n",
       "      <td>NaN</td>\n",
       "      <td>3.09</td>\n",
       "      <td>4.22</td>\n",
       "      <td>-7.69</td>\n",
       "      <td>1.15</td>\n",
       "    </tr>\n",
       "    <tr>\n",
       "      <th>2021-03-31</th>\n",
       "      <td>1.15</td>\n",
       "      <td>6.45</td>\n",
       "      <td>1.02</td>\n",
       "      <td>-2.46</td>\n",
       "      <td>1.12</td>\n",
       "      <td>2.89</td>\n",
       "      <td>5.29</td>\n",
       "      <td>4.86</td>\n",
       "      <td>-4.12</td>\n",
       "      <td>0.23</td>\n",
       "      <td>...</td>\n",
       "      <td>0.74</td>\n",
       "      <td>2.46</td>\n",
       "      <td>1.40</td>\n",
       "      <td>-2.12</td>\n",
       "      <td>3.78</td>\n",
       "      <td>1.38</td>\n",
       "      <td>3.00</td>\n",
       "      <td>-0.20</td>\n",
       "      <td>2.07</td>\n",
       "      <td>1.33</td>\n",
       "    </tr>\n",
       "    <tr>\n",
       "      <th>2021-04-30</th>\n",
       "      <td>1.83</td>\n",
       "      <td>7.39</td>\n",
       "      <td>2.90</td>\n",
       "      <td>2.17</td>\n",
       "      <td>1.92</td>\n",
       "      <td>2.37</td>\n",
       "      <td>2.65</td>\n",
       "      <td>4.53</td>\n",
       "      <td>2.61</td>\n",
       "      <td>0.23</td>\n",
       "      <td>...</td>\n",
       "      <td>1.60</td>\n",
       "      <td>2.93</td>\n",
       "      <td>2.10</td>\n",
       "      <td>10.23</td>\n",
       "      <td>3.59</td>\n",
       "      <td>1.86</td>\n",
       "      <td>-0.05</td>\n",
       "      <td>3.11</td>\n",
       "      <td>-3.27</td>\n",
       "      <td>2.89</td>\n",
       "    </tr>\n",
       "    <tr>\n",
       "      <th>2021-05-31</th>\n",
       "      <td>1.10</td>\n",
       "      <td>6.92</td>\n",
       "      <td>1.13</td>\n",
       "      <td>-4.79</td>\n",
       "      <td>1.19</td>\n",
       "      <td>2.29</td>\n",
       "      <td>2.44</td>\n",
       "      <td>4.93</td>\n",
       "      <td>0.66</td>\n",
       "      <td>0.58</td>\n",
       "      <td>...</td>\n",
       "      <td>0.49</td>\n",
       "      <td>1.58</td>\n",
       "      <td>1.17</td>\n",
       "      <td>1.93</td>\n",
       "      <td>5.48</td>\n",
       "      <td>0.64</td>\n",
       "      <td>4.90</td>\n",
       "      <td>-3.33</td>\n",
       "      <td>0.03</td>\n",
       "      <td>1.40</td>\n",
       "    </tr>\n",
       "    <tr>\n",
       "      <th>2021-06-30</th>\n",
       "      <td>2.66</td>\n",
       "      <td>3.35</td>\n",
       "      <td>3.42</td>\n",
       "      <td>5.25</td>\n",
       "      <td>2.75</td>\n",
       "      <td>3.97</td>\n",
       "      <td>1.25</td>\n",
       "      <td>2.01</td>\n",
       "      <td>-1.76</td>\n",
       "      <td>2.22</td>\n",
       "      <td>...</td>\n",
       "      <td>3.15</td>\n",
       "      <td>3.27</td>\n",
       "      <td>2.82</td>\n",
       "      <td>-8.20</td>\n",
       "      <td>1.18</td>\n",
       "      <td>3.19</td>\n",
       "      <td>0.05</td>\n",
       "      <td>2.11</td>\n",
       "      <td>2.52</td>\n",
       "      <td>3.41</td>\n",
       "    </tr>\n",
       "    <tr>\n",
       "      <th>2021-07-30</th>\n",
       "      <td>-3.09</td>\n",
       "      <td>-1.40</td>\n",
       "      <td>-4.19</td>\n",
       "      <td>-2.19</td>\n",
       "      <td>-3.48</td>\n",
       "      <td>-3.52</td>\n",
       "      <td>-3.33</td>\n",
       "      <td>-2.49</td>\n",
       "      <td>-2.74</td>\n",
       "      <td>1.24</td>\n",
       "      <td>...</td>\n",
       "      <td>-3.79</td>\n",
       "      <td>-3.00</td>\n",
       "      <td>-3.48</td>\n",
       "      <td>4.38</td>\n",
       "      <td>-4.89</td>\n",
       "      <td>-2.81</td>\n",
       "      <td>-7.24</td>\n",
       "      <td>-0.42</td>\n",
       "      <td>-4.52</td>\n",
       "      <td>-1.89</td>\n",
       "    </tr>\n",
       "    <tr>\n",
       "      <th>2021-08-31</th>\n",
       "      <td>-1.18</td>\n",
       "      <td>-0.36</td>\n",
       "      <td>-1.13</td>\n",
       "      <td>-1.99</td>\n",
       "      <td>-1.08</td>\n",
       "      <td>-1.18</td>\n",
       "      <td>-2.03</td>\n",
       "      <td>-0.15</td>\n",
       "      <td>-5.64</td>\n",
       "      <td>-0.15</td>\n",
       "      <td>...</td>\n",
       "      <td>-1.06</td>\n",
       "      <td>-0.47</td>\n",
       "      <td>-0.84</td>\n",
       "      <td>-4.65</td>\n",
       "      <td>-2.19</td>\n",
       "      <td>-0.54</td>\n",
       "      <td>-0.56</td>\n",
       "      <td>0.40</td>\n",
       "      <td>8.38</td>\n",
       "      <td>-0.72</td>\n",
       "    </tr>\n",
       "    <tr>\n",
       "      <th>2021-09-30</th>\n",
       "      <td>-4.26</td>\n",
       "      <td>-0.26</td>\n",
       "      <td>-4.36</td>\n",
       "      <td>-5.49</td>\n",
       "      <td>-4.04</td>\n",
       "      <td>-4.34</td>\n",
       "      <td>-2.07</td>\n",
       "      <td>-2.18</td>\n",
       "      <td>-2.35</td>\n",
       "      <td>-1.26</td>\n",
       "      <td>...</td>\n",
       "      <td>-4.34</td>\n",
       "      <td>-3.69</td>\n",
       "      <td>-4.51</td>\n",
       "      <td>-2.76</td>\n",
       "      <td>-4.13</td>\n",
       "      <td>-3.94</td>\n",
       "      <td>-7.28</td>\n",
       "      <td>-3.55</td>\n",
       "      <td>-9.58</td>\n",
       "      <td>-3.96</td>\n",
       "    </tr>\n",
       "    <tr>\n",
       "      <th>2021-10-29</th>\n",
       "      <td>-3.20</td>\n",
       "      <td>-3.97</td>\n",
       "      <td>-2.28</td>\n",
       "      <td>-2.26</td>\n",
       "      <td>-3.07</td>\n",
       "      <td>-1.57</td>\n",
       "      <td>-3.41</td>\n",
       "      <td>-2.69</td>\n",
       "      <td>-1.85</td>\n",
       "      <td>-2.48</td>\n",
       "      <td>...</td>\n",
       "      <td>-3.06</td>\n",
       "      <td>-3.20</td>\n",
       "      <td>-3.32</td>\n",
       "      <td>-2.80</td>\n",
       "      <td>0.33</td>\n",
       "      <td>-2.66</td>\n",
       "      <td>-3.06</td>\n",
       "      <td>-0.64</td>\n",
       "      <td>-12.30</td>\n",
       "      <td>-3.60</td>\n",
       "    </tr>\n",
       "    <tr>\n",
       "      <th>2021-11-30</th>\n",
       "      <td>-3.59</td>\n",
       "      <td>-10.45</td>\n",
       "      <td>-4.45</td>\n",
       "      <td>1.54</td>\n",
       "      <td>-3.91</td>\n",
       "      <td>-5.99</td>\n",
       "      <td>-3.96</td>\n",
       "      <td>-9.58</td>\n",
       "      <td>-5.10</td>\n",
       "      <td>-0.46</td>\n",
       "      <td>...</td>\n",
       "      <td>-3.56</td>\n",
       "      <td>-4.24</td>\n",
       "      <td>-3.32</td>\n",
       "      <td>-1.32</td>\n",
       "      <td>-10.55</td>\n",
       "      <td>-3.89</td>\n",
       "      <td>-8.97</td>\n",
       "      <td>3.01</td>\n",
       "      <td>-2.65</td>\n",
       "      <td>-4.59</td>\n",
       "    </tr>\n",
       "    <tr>\n",
       "      <th>2021-12-30</th>\n",
       "      <td>6.52</td>\n",
       "      <td>7.20</td>\n",
       "      <td>8.18</td>\n",
       "      <td>8.55</td>\n",
       "      <td>6.56</td>\n",
       "      <td>4.44</td>\n",
       "      <td>8.24</td>\n",
       "      <td>7.85</td>\n",
       "      <td>-0.10</td>\n",
       "      <td>2.94</td>\n",
       "      <td>...</td>\n",
       "      <td>6.98</td>\n",
       "      <td>6.10</td>\n",
       "      <td>6.72</td>\n",
       "      <td>8.56</td>\n",
       "      <td>10.12</td>\n",
       "      <td>7.39</td>\n",
       "      <td>5.18</td>\n",
       "      <td>5.51</td>\n",
       "      <td>2.72</td>\n",
       "      <td>7.91</td>\n",
       "    </tr>\n",
       "  </tbody>\n",
       "</table>\n",
       "<p>12 rows × 133 columns</p>\n",
       "</div>"
      ],
      "text/plain": [
       "            KODEX 200  KODEX 200 중소형  KODEX 200ESG  KODEX 200IT TR  \\\n",
       "Date                                                                 \n",
       "2021-01-29        NaN            NaN           NaN             NaN   \n",
       "2021-02-26       1.41           3.62          2.33           -0.20   \n",
       "2021-03-31       1.15           6.45          1.02           -2.46   \n",
       "2021-04-30       1.83           7.39          2.90            2.17   \n",
       "2021-05-31       1.10           6.92          1.13           -4.79   \n",
       "2021-06-30       2.66           3.35          3.42            5.25   \n",
       "2021-07-30      -3.09          -1.40         -4.19           -2.19   \n",
       "2021-08-31      -1.18          -0.36         -1.13           -1.99   \n",
       "2021-09-30      -4.26          -0.26         -4.36           -5.49   \n",
       "2021-10-29      -3.20          -3.97         -2.28           -2.26   \n",
       "2021-11-30      -3.59         -10.45         -4.45            1.54   \n",
       "2021-12-30       6.52           7.20          8.18            8.55   \n",
       "\n",
       "            KODEX 200TR  KODEX 200exTOP  KODEX 200가치저변동  KODEX 200동일가중  \\\n",
       "Date                                                                     \n",
       "2021-01-29          NaN             NaN             NaN            NaN   \n",
       "2021-02-26         1.55            1.13            2.79           2.46   \n",
       "2021-03-31         1.12            2.89            5.29           4.86   \n",
       "2021-04-30         1.92            2.37            2.65           4.53   \n",
       "2021-05-31         1.19            2.29            2.44           4.93   \n",
       "2021-06-30         2.75            3.97            1.25           2.01   \n",
       "2021-07-30        -3.48           -3.52           -3.33          -2.49   \n",
       "2021-08-31        -1.08           -1.18           -2.03          -0.15   \n",
       "2021-09-30        -4.04           -4.34           -2.07          -2.18   \n",
       "2021-10-29        -3.07           -1.57           -3.41          -2.69   \n",
       "2021-11-30        -3.91           -5.99           -3.96          -9.58   \n",
       "2021-12-30         6.56            4.44            8.24           7.85   \n",
       "\n",
       "            KODEX 200롱코스닥150숏선물  KODEX 200미국채혼합  ...  KODEX 코스피100  \\\n",
       "Date                                             ...                 \n",
       "2021-01-29                  NaN             NaN  ...           NaN   \n",
       "2021-02-26                 6.78           -1.41  ...          1.04   \n",
       "2021-03-31                -4.12            0.23  ...          0.74   \n",
       "2021-04-30                 2.61            0.23  ...          1.60   \n",
       "2021-05-31                 0.66            0.58  ...          0.49   \n",
       "2021-06-30                -1.76            2.22  ...          3.15   \n",
       "2021-07-30                -2.74            1.24  ...         -3.79   \n",
       "2021-08-31                -5.64           -0.15  ...         -1.06   \n",
       "2021-09-30                -2.35           -1.26  ...         -4.34   \n",
       "2021-10-29                -1.85           -2.48  ...         -3.06   \n",
       "2021-11-30                -5.10           -0.46  ...         -3.56   \n",
       "2021-12-30                -0.10            2.94  ...          6.98   \n",
       "\n",
       "            KODEX 코스피TR  KODEX 코스피대형주  KODEX 콩선물(H)  KODEX 퀄리티Plus  \\\n",
       "Date                                                                 \n",
       "2021-01-29          NaN           NaN           NaN            NaN   \n",
       "2021-02-26         0.65          0.69          2.49          -0.29   \n",
       "2021-03-31         2.46          1.40         -2.12           3.78   \n",
       "2021-04-30         2.93          2.10         10.23           3.59   \n",
       "2021-05-31         1.58          1.17          1.93           5.48   \n",
       "2021-06-30         3.27          2.82         -8.20           1.18   \n",
       "2021-07-30        -3.00         -3.48          4.38          -4.89   \n",
       "2021-08-31        -0.47         -0.84         -4.65          -2.19   \n",
       "2021-09-30        -3.69         -4.51         -2.76          -4.13   \n",
       "2021-10-29        -3.20         -3.32         -2.80           0.33   \n",
       "2021-11-30        -4.24         -3.32         -1.32         -10.55   \n",
       "2021-12-30         6.10          6.72          8.56          10.12   \n",
       "\n",
       "            KODEX 탄소효율그린뉴딜  KODEX 필수소비재  KODEX 한국대만IT프리미어  KODEX 헬스케어  \\\n",
       "Date                                                                    \n",
       "2021-01-29             NaN          NaN               NaN         NaN   \n",
       "2021-02-26             NaN         3.09              4.22       -7.69   \n",
       "2021-03-31            1.38         3.00             -0.20        2.07   \n",
       "2021-04-30            1.86        -0.05              3.11       -3.27   \n",
       "2021-05-31            0.64         4.90             -3.33        0.03   \n",
       "2021-06-30            3.19         0.05              2.11        2.52   \n",
       "2021-07-30           -2.81        -7.24             -0.42       -4.52   \n",
       "2021-08-31           -0.54        -0.56              0.40        8.38   \n",
       "2021-09-30           -3.94        -7.28             -3.55       -9.58   \n",
       "2021-10-29           -2.66        -3.06             -0.64      -12.30   \n",
       "2021-11-30           -3.89        -8.97              3.01       -2.65   \n",
       "2021-12-30            7.39         5.18              5.51        2.72   \n",
       "\n",
       "            KODEX 혁신기술테마액티브  \n",
       "Date                         \n",
       "2021-01-29              NaN  \n",
       "2021-02-26             1.15  \n",
       "2021-03-31             1.33  \n",
       "2021-04-30             2.89  \n",
       "2021-05-31             1.40  \n",
       "2021-06-30             3.41  \n",
       "2021-07-30            -1.89  \n",
       "2021-08-31            -0.72  \n",
       "2021-09-30            -3.96  \n",
       "2021-10-29            -3.60  \n",
       "2021-11-30            -4.59  \n",
       "2021-12-30             7.91  \n",
       "\n",
       "[12 rows x 133 columns]"
      ]
     },
     "execution_count": 5,
     "metadata": {},
     "output_type": "execute_result"
    }
   ],
   "source": [
    "df_copy_kodex_2021_cond_return"
   ]
  },
  {
   "cell_type": "code",
   "execution_count": null,
   "metadata": {},
   "outputs": [],
   "source": []
  }
 ],
 "metadata": {
  "kernelspec": {
   "display_name": "pyInvestVenv",
   "language": "python",
   "name": "python3"
  },
  "language_info": {
   "codemirror_mode": {
    "name": "ipython",
    "version": 3
   },
   "file_extension": ".py",
   "mimetype": "text/x-python",
   "name": "python",
   "nbconvert_exporter": "python",
   "pygments_lexer": "ipython3",
   "version": "3.12.5"
  }
 },
 "nbformat": 4,
 "nbformat_minor": 2
}
